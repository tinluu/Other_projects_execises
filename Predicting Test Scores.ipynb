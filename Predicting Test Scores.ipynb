{
 "cells": [
  {
   "cell_type": "code",
   "execution_count": 47,
   "metadata": {},
   "outputs": [],
   "source": [
    "import sys\n",
    "import numpy as np\n",
    "import pandas as pd \n",
    "from sklearn.model_selection import train_test_split\n",
    "from sklearn.linear_model import LinearRegression\n",
    "from sklearn.preprocessing import StandardScaler\n",
    "import warnings\n",
    "warnings.filterwarnings('ignore')"
   ]
  },
  {
   "cell_type": "code",
   "execution_count": 2,
   "metadata": {},
   "outputs": [],
   "source": [
    "data = pd.read_csv(\"gradeTrain.csv\")\n",
    "test_data = pd.read_csv(\"gradeTest.csv\")"
   ]
  },
  {
   "cell_type": "markdown",
   "metadata": {},
   "source": [
    "### first try with a smaller subset (data from 2018)"
   ]
  },
  {
   "cell_type": "code",
   "execution_count": 3,
   "metadata": {},
   "outputs": [],
   "source": [
    "def preprocessing(data):\n",
    "    nan_loc = np.argwhere(np.isnan(data))\n",
    "    big_loc = np.argwhere(data>100)\n",
    "    subzero_loc = np.argwhere(data<0)\n",
    "    #we have: nan_loc, big_loc, subzero_loc\n",
    "    for i in np.vstack((nan_loc, big_loc, subzero_loc)):\n",
    "        data[i[0],i[1]] = np.mean(np.delete(data[i[0]], [i[0],i[1]]))\n",
    "    return data"
   ]
  },
  {
   "cell_type": "code",
   "execution_count": 4,
   "metadata": {},
   "outputs": [],
   "source": [
    "data18 = data[data.Year == 2018]\n",
    "data18 = data18.drop(columns = \"Year\")\n",
    "train18, val18 = train_test_split(data18, test_size=0.1)\n",
    "y_train18 = np.array(train18[\"FinalExam\"])   #target \n",
    "x_train18 = np.array(train18.drop(columns = \"FinalExam\"))  #data "
   ]
  },
  {
   "cell_type": "code",
   "execution_count": 5,
   "metadata": {
    "scrolled": true
   },
   "outputs": [],
   "source": [
    "y_val18 = np.array(val18['FinalExam'])\n",
    "x_val18 = np.array(val18.drop(columns = \"FinalExam\"))"
   ]
  },
  {
   "cell_type": "code",
   "execution_count": 6,
   "metadata": {},
   "outputs": [
    {
     "name": "stderr",
     "output_type": "stream",
     "text": [
      "C:\\Users\\tinlu\\Anaconda3\\lib\\site-packages\\ipykernel_launcher.py:3: RuntimeWarning: invalid value encountered in greater\n",
      "  This is separate from the ipykernel package so we can avoid doing imports until\n",
      "C:\\Users\\tinlu\\Anaconda3\\lib\\site-packages\\ipykernel_launcher.py:4: RuntimeWarning: invalid value encountered in less\n",
      "  after removing the cwd from sys.path.\n",
      "C:\\Users\\tinlu\\Anaconda3\\lib\\site-packages\\ipykernel_launcher.py:7: DeprecationWarning: in the future out of bounds indices will raise an error instead of being ignored by `numpy.delete`.\n",
      "  import sys\n"
     ]
    }
   ],
   "source": [
    "x_train18 = preprocessing(x_train18)\n",
    "x_val18 = preprocessing(x_val18)"
   ]
  },
  {
   "cell_type": "code",
   "execution_count": 7,
   "metadata": {},
   "outputs": [],
   "source": [
    "#scale = StandardScaler()\n",
    "#x_train18 = scale.fit_transform(x_train18)\n",
    "#x_val18 = scale.fit_transform(x_val18)"
   ]
  },
  {
   "cell_type": "code",
   "execution_count": 14,
   "metadata": {},
   "outputs": [],
   "source": [
    "linreg = LinearRegression(normalize=True)"
   ]
  },
  {
   "cell_type": "code",
   "execution_count": 15,
   "metadata": {},
   "outputs": [
    {
     "data": {
      "text/plain": [
       "LinearRegression(copy_X=True, fit_intercept=True, n_jobs=None, normalize=True)"
      ]
     },
     "execution_count": 15,
     "metadata": {},
     "output_type": "execute_result"
    }
   ],
   "source": [
    "linreg.fit(x_train18, y_train18)"
   ]
  },
  {
   "cell_type": "code",
   "execution_count": 16,
   "metadata": {},
   "outputs": [
    {
     "name": "stdout",
     "output_type": "stream",
     "text": [
      "The estimated intercept coefficient is 34.93\n",
      "The number of coefficients used was 11\n"
     ]
    }
   ],
   "source": [
    "print('The estimated intercept coefficient is %.2f' %linreg.intercept_)\n",
    "print('The number of coefficients used was %d' %len(linreg.coef_))"
   ]
  },
  {
   "cell_type": "code",
   "execution_count": 17,
   "metadata": {},
   "outputs": [
    {
     "data": {
      "text/html": [
       "<div>\n",
       "<style scoped>\n",
       "    .dataframe tbody tr th:only-of-type {\n",
       "        vertical-align: middle;\n",
       "    }\n",
       "\n",
       "    .dataframe tbody tr th {\n",
       "        vertical-align: top;\n",
       "    }\n",
       "\n",
       "    .dataframe thead th {\n",
       "        text-align: right;\n",
       "    }\n",
       "</style>\n",
       "<table border=\"1\" class=\"dataframe\">\n",
       "  <thead>\n",
       "    <tr style=\"text-align: right;\">\n",
       "      <th></th>\n",
       "      <th>Features</th>\n",
       "      <th>Coefficient Estimate</th>\n",
       "    </tr>\n",
       "  </thead>\n",
       "  <tbody>\n",
       "    <tr>\n",
       "      <th>0</th>\n",
       "      <td>0</td>\n",
       "      <td>-0.009098</td>\n",
       "    </tr>\n",
       "    <tr>\n",
       "      <th>1</th>\n",
       "      <td>1</td>\n",
       "      <td>-0.073012</td>\n",
       "    </tr>\n",
       "    <tr>\n",
       "      <th>2</th>\n",
       "      <td>2</td>\n",
       "      <td>-0.307661</td>\n",
       "    </tr>\n",
       "    <tr>\n",
       "      <th>3</th>\n",
       "      <td>3</td>\n",
       "      <td>0.892914</td>\n",
       "    </tr>\n",
       "    <tr>\n",
       "      <th>4</th>\n",
       "      <td>4</td>\n",
       "      <td>-0.345273</td>\n",
       "    </tr>\n",
       "    <tr>\n",
       "      <th>5</th>\n",
       "      <td>5</td>\n",
       "      <td>-0.137702</td>\n",
       "    </tr>\n",
       "    <tr>\n",
       "      <th>6</th>\n",
       "      <td>6</td>\n",
       "      <td>-0.313013</td>\n",
       "    </tr>\n",
       "    <tr>\n",
       "      <th>7</th>\n",
       "      <td>7</td>\n",
       "      <td>0.964396</td>\n",
       "    </tr>\n",
       "    <tr>\n",
       "      <th>8</th>\n",
       "      <td>8</td>\n",
       "      <td>-0.348924</td>\n",
       "    </tr>\n",
       "    <tr>\n",
       "      <th>9</th>\n",
       "      <td>9</td>\n",
       "      <td>-0.010576</td>\n",
       "    </tr>\n",
       "    <tr>\n",
       "      <th>10</th>\n",
       "      <td>10</td>\n",
       "      <td>0.276649</td>\n",
       "    </tr>\n",
       "    <tr>\n",
       "      <th>11</th>\n",
       "      <td>FinalExam</td>\n",
       "      <td>NaN</td>\n",
       "    </tr>\n",
       "  </tbody>\n",
       "</table>\n",
       "</div>"
      ],
      "text/plain": [
       "     Features  Coefficient Estimate\n",
       "0           0             -0.009098\n",
       "1           1             -0.073012\n",
       "2           2             -0.307661\n",
       "3           3              0.892914\n",
       "4           4             -0.345273\n",
       "5           5             -0.137702\n",
       "6           6             -0.313013\n",
       "7           7              0.964396\n",
       "8           8             -0.348924\n",
       "9           9             -0.010576\n",
       "10         10              0.276649\n",
       "11  FinalExam                   NaN"
      ]
     },
     "execution_count": 17,
     "metadata": {},
     "output_type": "execute_result"
    }
   ],
   "source": [
    "coeff_df = pd.DataFrame(train18.columns)\n",
    "coeff_df.columns = ['Features']\n",
    "coeff_df['Coefficient Estimate'] = pd.Series(linreg.coef_)\n",
    "coeff_df"
   ]
  },
  {
   "cell_type": "code",
   "execution_count": 18,
   "metadata": {},
   "outputs": [],
   "source": [
    "def upperbounding(result):\n",
    "    for i in np.argwhere(result> 100):\n",
    "        result[i[0]] = 100\n",
    "    return result "
   ]
  },
  {
   "cell_type": "code",
   "execution_count": 19,
   "metadata": {},
   "outputs": [
    {
     "name": "stdout",
     "output_type": "stream",
     "text": [
      "Fit a model with X_train, and calculate the MSE with Y_train: 3.68\n",
      "Fit a model with X_train, and calculate the MSE with X_val and Y_val: 3.30\n"
     ]
    }
   ],
   "source": [
    "pred_train18 = linreg.predict(x_train18)\n",
    "pred_train18 = upperbounding(pred_train18)\n",
    "pred_val18 = linreg.predict(x_val18)\n",
    "pred_val18 = upperbounding(pred_val18)\n",
    "print ('Fit a model with X_train, and calculate the MSE with Y_train: %.2f' % np.mean((y_train18 - pred_train18)**2))\n",
    "print ('Fit a model with X_train, and calculate the MSE with X_val and Y_val: %.2f' % np.mean((y_val18 - pred_val18)**2))"
   ]
  },
  {
   "cell_type": "code",
   "execution_count": null,
   "metadata": {},
   "outputs": [],
   "source": []
  },
  {
   "cell_type": "markdown",
   "metadata": {},
   "source": [
    "### We now try with ALL of our data, validate with validation, and then make prediction on test set"
   ]
  },
  {
   "cell_type": "code",
   "execution_count": 37,
   "metadata": {},
   "outputs": [],
   "source": [
    "train, val = train_test_split(data, test_size=0.1)"
   ]
  },
  {
   "cell_type": "code",
   "execution_count": 38,
   "metadata": {},
   "outputs": [],
   "source": [
    "y_train = np.array(train.FinalExam)\n",
    "y_val = np.array(val.FinalExam)"
   ]
  },
  {
   "cell_type": "code",
   "execution_count": 39,
   "metadata": {},
   "outputs": [
    {
     "name": "stderr",
     "output_type": "stream",
     "text": [
      "C:\\Users\\tinlu\\Anaconda3\\lib\\site-packages\\ipykernel_launcher.py:3: RuntimeWarning: invalid value encountered in greater\n",
      "  This is separate from the ipykernel package so we can avoid doing imports until\n",
      "C:\\Users\\tinlu\\Anaconda3\\lib\\site-packages\\ipykernel_launcher.py:4: RuntimeWarning: invalid value encountered in less\n",
      "  after removing the cwd from sys.path.\n",
      "C:\\Users\\tinlu\\Anaconda3\\lib\\site-packages\\ipykernel_launcher.py:7: DeprecationWarning: in the future out of bounds indices will raise an error instead of being ignored by `numpy.delete`.\n",
      "  import sys\n"
     ]
    }
   ],
   "source": [
    "x_train = np.array(train.drop(columns=[\"FinalExam\", \"Year\"]))\n",
    "x_train = preprocessing(x_train)\n",
    "x_val = np.array(val.drop(columns=[\"FinalExam\", \"Year\"]))\n",
    "x_val = preprocessing(x_val)"
   ]
  },
  {
   "cell_type": "code",
   "execution_count": 40,
   "metadata": {},
   "outputs": [
    {
     "name": "stdout",
     "output_type": "stream",
     "text": [
      "train data: (81000, 11)\n",
      "train target (81000,)\n",
      "validation data (9000, 11)\n",
      "validation target (9000,)\n"
     ]
    }
   ],
   "source": [
    "# Check dimension\n",
    "print(\"train data:\", x_train.shape)\n",
    "print(\"train target\", y_train.shape)\n",
    "print(\"validation data\", x_val.shape)\n",
    "print(\"validation target\", y_val.shape)"
   ]
  },
  {
   "cell_type": "code",
   "execution_count": 41,
   "metadata": {},
   "outputs": [
    {
     "name": "stdout",
     "output_type": "stream",
     "text": [
      "The estimated intercept coefficient is 42.577\n",
      "The number of coefficients used was 11\n",
      "     Features  Coefficient Estimate\n",
      "0           0             -0.010791\n",
      "1           1             -0.025233\n",
      "2           2             -0.018326\n",
      "3           3              0.251094\n",
      "4           4             -0.062614\n",
      "5           5             -0.047412\n",
      "6           6             -0.036276\n",
      "7           7              0.284831\n",
      "8           8             -0.005780\n",
      "9           9              0.038815\n",
      "10         10              0.128760\n",
      "11  FinalExam                   NaN\n",
      "12       Year                   NaN\n",
      "Fit a model with X_train, and calculate the MSE with Y_train: 60.630\n",
      "Fit a model with X_train, and calculate the MSE with X_val and Y_val: 59.011\n"
     ]
    }
   ],
   "source": [
    "linreg = LinearRegression(normalize = True)\n",
    "linreg.fit(x_train, y_train)\n",
    "\n",
    "print('The estimated intercept coefficient is %.3f' %linreg.intercept_)\n",
    "print('The number of coefficients used was %d' %len(linreg.coef_))\n",
    "\n",
    "coeff_df = pd.DataFrame(train.columns)\n",
    "coeff_df.columns = ['Features']\n",
    "coeff_df['Coefficient Estimate'] = pd.Series(linreg.coef_)\n",
    "print(coeff_df)\n",
    "\n",
    "pred_train = upperbounding(linreg.predict(x_train))\n",
    "\n",
    "pred_val = upperbounding(linreg.predict(x_val))\n",
    "\n",
    "print ('Fit a model with X_train, and calculate the MSE with Y_train: %.3f' % np.mean((y_train - pred_train)**2))\n",
    "print ('Fit a model with X_train, and calculate the MSE with X_val and Y_val: %.3f' % np.mean((y_val - pred_val)**2))"
   ]
  },
  {
   "cell_type": "code",
   "execution_count": null,
   "metadata": {},
   "outputs": [],
   "source": [
    "#import matplotlib.pyplot as plt\n",
    "#import seaborn as sns\n",
    "#sns.set_style('whitegrid')\n",
    "\n",
    "#train = plt.scatter(pred_train, (pred_train - y_train), c='b', alpha=0.25)\n",
    "#test = plt.scatter(pred_val, (pred_val - y_val), c='r', alpha=0.3)\n",
    "#plt.hlines(y=0, xmin=65, xmax=100)\n",
    "#plt.legend((train, test), ('Training', 'Test'), loc='lower left')\n",
    "#plt.title('Residual Plots')"
   ]
  },
  {
   "cell_type": "markdown",
   "metadata": {},
   "source": [
    "### Something does not make sense if you compare the results of 2018 with results from doing all data"
   ]
  },
  {
   "cell_type": "code",
   "execution_count": 25,
   "metadata": {},
   "outputs": [
    {
     "data": {
      "text/plain": [
       "2018    10000\n",
       "2017    10000\n",
       "2016    10000\n",
       "2015    10000\n",
       "2014    10000\n",
       "2013    10000\n",
       "2012    10000\n",
       "2011    10000\n",
       "2010    10000\n",
       "Name: Year, dtype: int64"
      ]
     },
     "execution_count": 25,
     "metadata": {},
     "output_type": "execute_result"
    }
   ],
   "source": [
    "pd.value_counts(data.Year)"
   ]
  },
  {
   "cell_type": "markdown",
   "metadata": {},
   "source": [
    "From above, we see that the number of observations for each year is the same, 10000\n",
    "Let's run LR on each year. "
   ]
  },
  {
   "cell_type": "code",
   "execution_count": 67,
   "metadata": {},
   "outputs": [],
   "source": [
    "# LR pipeline:\n",
    "def LR(data):\n",
    "    train, val = train_test_split(data, test_size=0.1)\n",
    "    y_train = np.array(train.FinalExam)\n",
    "    y_val = np.array(val.FinalExam)\n",
    "    x_train = np.array(train.drop(columns=[\"FinalExam\", \"Year\"]))\n",
    "    x_train = preprocessing(x_train)\n",
    "    x_val = np.array(val.drop(columns=[\"FinalExam\", \"Year\"]))\n",
    "    x_val = preprocessing(x_val)\n",
    "    \n",
    "    linreg = LinearRegression(normalize=True)\n",
    "    \n",
    "    linreg.fit(x_train, y_train)\n",
    "    \n",
    "    #print('The estimated intercept coefficient is %.3f' %linreg.intercept_)\n",
    "    #print('The number of coefficients used was %d' %len(linreg.coef_))\n",
    "\n",
    "    pred_train = upperbounding(linreg.predict(x_train))\n",
    "    pred_val = upperbounding(linreg.predict(x_val))\n",
    "    \n",
    "    train_MSE = np.mean((y_train - pred_train)**2)\n",
    "    val_MSE = np.mean((y_val - pred_val)**2)\n",
    "                        \n",
    "    #print ('Fit a model with X_train, and calculate the MSE with Y_train: %.3f' % np.mean((y_train - pred_train)**2))\n",
    "    #print ('Fit a model with X_train, and calculate the MSE with X_val and Y_val: %.3f' % np.mean((y_val - pred_val)**2))\n",
    "    return {\"intercept\":linreg.intercept_, \"coef\":linreg.coef_, \"train MSE\": train_MSE, \"val MSE\":val_MSE}"
   ]
  },
  {
   "cell_type": "code",
   "execution_count": 68,
   "metadata": {},
   "outputs": [],
   "source": [
    "yearly_results = {}\n",
    "for year in pd.unique(data.Year):\n",
    "    yearly_results[year] = LR(data[data.Year == year])"
   ]
  },
  {
   "cell_type": "code",
   "execution_count": 69,
   "metadata": {
    "scrolled": true
   },
   "outputs": [
    {
     "data": {
      "text/plain": [
       "{2018: {'intercept': 34.96152486902821,\n",
       "  'coef': array([-0.00828236, -0.07504017, -0.30609812,  0.89390769, -0.34770126,\n",
       "         -0.13928251, -0.31075615,  0.96542066, -0.35032914, -0.0115977 ,\n",
       "          0.27802369]),\n",
       "  'train MSE': 3.670935175216663,\n",
       "  'val MSE': 3.3098068434736363},\n",
       " 2017: {'intercept': 37.49561252073815,\n",
       "  'coef': array([-0.01243567, -0.06561123, -0.24446323,  0.74957975, -0.28744198,\n",
       "         -0.12016764, -0.2483422 ,  0.82483677, -0.2715217 , -0.00792049,\n",
       "          0.24719219]),\n",
       "  'train MSE': 14.430890333794524,\n",
       "  'val MSE': 14.51008799668563},\n",
       " 2016: {'intercept': 38.57331722123642,\n",
       "  'coef': array([-0.02956732, -0.04496149, -0.14180963,  0.54389925, -0.18239301,\n",
       "         -0.11705057, -0.16746402,  0.59767475, -0.15263606,  0.02271465,\n",
       "          0.20814706]),\n",
       "  'train MSE': 38.46458094686716,\n",
       "  'val MSE': 37.480891613283546},\n",
       " 2015: {'intercept': 42.4961575588792,\n",
       "  'coef': array([-0.0285657 , -0.03131612, -0.10019574,  0.38055549, -0.11991152,\n",
       "         -0.07497182, -0.08553944,  0.44040978, -0.07443013,  0.01410216,\n",
       "          0.1766675 ]),\n",
       "  'train MSE': 52.441346490706074,\n",
       "  'val MSE': 52.461166729029486},\n",
       " 2014: {'intercept': 45.753766834228145,\n",
       "  'coef': array([-0.02098554, -0.04827558, -0.04563407,  0.29440046, -0.07036258,\n",
       "         -0.04905391, -0.04885292,  0.32676735, -0.04348312,  0.02828138,\n",
       "          0.12838931]),\n",
       "  'train MSE': 58.46763434627265,\n",
       "  'val MSE': 58.035060821434584},\n",
       " 2013: {'intercept': 49.58116243333365,\n",
       "  'coef': array([-0.01000801, -0.01941606, -0.02141073,  0.20865024, -0.03731791,\n",
       "         -0.02011226, -0.01607292,  0.20739201, -0.01152486,  0.06112178,\n",
       "          0.08024373]),\n",
       "  'train MSE': 65.74597976306552,\n",
       "  'val MSE': 63.70897186444769},\n",
       " 2012: {'intercept': 51.65782655245009,\n",
       "  'coef': array([-0.00913155, -0.00473828,  0.13936186,  0.00202756,  0.00441212,\n",
       "         -0.00510452,  0.01300143,  0.01228573,  0.15793716,  0.01957919,\n",
       "          0.0593884 ]),\n",
       "  'train MSE': 65.0263138977595,\n",
       "  'val MSE': 69.24454238498282},\n",
       " 2011: {'intercept': 65.31897429864847,\n",
       "  'coef': array([ 0.00943474,  0.00163148,  0.06154911,  0.02162428, -0.00325624,\n",
       "         -0.01023175, -0.00480425,  0.03194127,  0.05076063,  0.01738045,\n",
       "          0.04858128]),\n",
       "  'train MSE': 65.3809100334342,\n",
       "  'val MSE': 69.10472298363105},\n",
       " 2010: {'intercept': 78.73269967949366,\n",
       "  'coef': array([ 0.00805384,  0.01169299,  0.0215516 ,  0.00117726,  0.00714502,\n",
       "          0.00395211,  0.01027807, -0.00604785,  0.00973061,  0.01609197,\n",
       "         -0.00604456]),\n",
       "  'train MSE': 76.7859487396597,\n",
       "  'val MSE': 77.70223669641018}}"
      ]
     },
     "execution_count": 69,
     "metadata": {},
     "output_type": "execute_result"
    }
   ],
   "source": [
    "yearly_results"
   ]
  },
  {
   "cell_type": "code",
   "execution_count": 70,
   "metadata": {},
   "outputs": [
    {
     "data": {
      "text/html": [
       "<div>\n",
       "<style scoped>\n",
       "    .dataframe tbody tr th:only-of-type {\n",
       "        vertical-align: middle;\n",
       "    }\n",
       "\n",
       "    .dataframe tbody tr th {\n",
       "        vertical-align: top;\n",
       "    }\n",
       "\n",
       "    .dataframe thead th {\n",
       "        text-align: right;\n",
       "    }\n",
       "</style>\n",
       "<table border=\"1\" class=\"dataframe\">\n",
       "  <thead>\n",
       "    <tr style=\"text-align: right;\">\n",
       "      <th></th>\n",
       "      <th>intercept</th>\n",
       "      <th>coef</th>\n",
       "      <th>train MSE</th>\n",
       "      <th>val MSE</th>\n",
       "    </tr>\n",
       "  </thead>\n",
       "  <tbody>\n",
       "    <tr>\n",
       "      <th>2018</th>\n",
       "      <td>34.9615</td>\n",
       "      <td>[-0.00828236336808925, -0.07504016732441884, -...</td>\n",
       "      <td>3.67094</td>\n",
       "      <td>3.30981</td>\n",
       "    </tr>\n",
       "    <tr>\n",
       "      <th>2017</th>\n",
       "      <td>37.4956</td>\n",
       "      <td>[-0.012435673189532925, -0.06561123238504982, ...</td>\n",
       "      <td>14.4309</td>\n",
       "      <td>14.5101</td>\n",
       "    </tr>\n",
       "    <tr>\n",
       "      <th>2016</th>\n",
       "      <td>38.5733</td>\n",
       "      <td>[-0.02956732176982512, -0.0449614862639975, -0...</td>\n",
       "      <td>38.4646</td>\n",
       "      <td>37.4809</td>\n",
       "    </tr>\n",
       "    <tr>\n",
       "      <th>2015</th>\n",
       "      <td>42.4962</td>\n",
       "      <td>[-0.02856569731701113, -0.03131612395045009, -...</td>\n",
       "      <td>52.4413</td>\n",
       "      <td>52.4612</td>\n",
       "    </tr>\n",
       "    <tr>\n",
       "      <th>2014</th>\n",
       "      <td>45.7538</td>\n",
       "      <td>[-0.020985538967690492, -0.048275582726407036,...</td>\n",
       "      <td>58.4676</td>\n",
       "      <td>58.0351</td>\n",
       "    </tr>\n",
       "    <tr>\n",
       "      <th>2013</th>\n",
       "      <td>49.5812</td>\n",
       "      <td>[-0.010008014552846535, -0.019416064426393938,...</td>\n",
       "      <td>65.746</td>\n",
       "      <td>63.709</td>\n",
       "    </tr>\n",
       "    <tr>\n",
       "      <th>2012</th>\n",
       "      <td>51.6578</td>\n",
       "      <td>[-0.00913155247301439, -0.0047382762137135916,...</td>\n",
       "      <td>65.0263</td>\n",
       "      <td>69.2445</td>\n",
       "    </tr>\n",
       "    <tr>\n",
       "      <th>2011</th>\n",
       "      <td>65.319</td>\n",
       "      <td>[0.009434736198104634, 0.0016314797860218166, ...</td>\n",
       "      <td>65.3809</td>\n",
       "      <td>69.1047</td>\n",
       "    </tr>\n",
       "    <tr>\n",
       "      <th>2010</th>\n",
       "      <td>78.7327</td>\n",
       "      <td>[0.008053843522324602, 0.011692985889231152, 0...</td>\n",
       "      <td>76.7859</td>\n",
       "      <td>77.7022</td>\n",
       "    </tr>\n",
       "  </tbody>\n",
       "</table>\n",
       "</div>"
      ],
      "text/plain": [
       "     intercept                                               coef train MSE  \\\n",
       "2018   34.9615  [-0.00828236336808925, -0.07504016732441884, -...   3.67094   \n",
       "2017   37.4956  [-0.012435673189532925, -0.06561123238504982, ...   14.4309   \n",
       "2016   38.5733  [-0.02956732176982512, -0.0449614862639975, -0...   38.4646   \n",
       "2015   42.4962  [-0.02856569731701113, -0.03131612395045009, -...   52.4413   \n",
       "2014   45.7538  [-0.020985538967690492, -0.048275582726407036,...   58.4676   \n",
       "2013   49.5812  [-0.010008014552846535, -0.019416064426393938,...    65.746   \n",
       "2012   51.6578  [-0.00913155247301439, -0.0047382762137135916,...   65.0263   \n",
       "2011    65.319  [0.009434736198104634, 0.0016314797860218166, ...   65.3809   \n",
       "2010   78.7327  [0.008053843522324602, 0.011692985889231152, 0...   76.7859   \n",
       "\n",
       "      val MSE  \n",
       "2018  3.30981  \n",
       "2017  14.5101  \n",
       "2016  37.4809  \n",
       "2015  52.4612  \n",
       "2014  58.0351  \n",
       "2013   63.709  \n",
       "2012  69.2445  \n",
       "2011  69.1047  \n",
       "2010  77.7022  "
      ]
     },
     "execution_count": 70,
     "metadata": {},
     "output_type": "execute_result"
    }
   ],
   "source": [
    "pd.DataFrame(yearly_results).transpose()"
   ]
  },
  {
   "cell_type": "markdown",
   "metadata": {},
   "source": [
    "### Now, we make prediction on the Test set"
   ]
  },
  {
   "cell_type": "code",
   "execution_count": 66,
   "metadata": {},
   "outputs": [
    {
     "data": {
      "text/html": [
       "<div>\n",
       "<style scoped>\n",
       "    .dataframe tbody tr th:only-of-type {\n",
       "        vertical-align: middle;\n",
       "    }\n",
       "\n",
       "    .dataframe tbody tr th {\n",
       "        vertical-align: top;\n",
       "    }\n",
       "\n",
       "    .dataframe thead th {\n",
       "        text-align: right;\n",
       "    }\n",
       "</style>\n",
       "<table border=\"1\" class=\"dataframe\">\n",
       "  <thead>\n",
       "    <tr style=\"text-align: right;\">\n",
       "      <th></th>\n",
       "      <th>0</th>\n",
       "      <th>1</th>\n",
       "      <th>2</th>\n",
       "      <th>3</th>\n",
       "      <th>4</th>\n",
       "      <th>5</th>\n",
       "      <th>6</th>\n",
       "      <th>7</th>\n",
       "      <th>8</th>\n",
       "      <th>9</th>\n",
       "      <th>10</th>\n",
       "      <th>Year</th>\n",
       "    </tr>\n",
       "  </thead>\n",
       "  <tbody>\n",
       "    <tr>\n",
       "      <th>0</th>\n",
       "      <td>82.4</td>\n",
       "      <td>83.2</td>\n",
       "      <td>94.7</td>\n",
       "      <td>97.8</td>\n",
       "      <td>95.0</td>\n",
       "      <td>91.6</td>\n",
       "      <td>73.4</td>\n",
       "      <td>72.7</td>\n",
       "      <td>75.0</td>\n",
       "      <td>76.7</td>\n",
       "      <td>72.1</td>\n",
       "      <td>2019</td>\n",
       "    </tr>\n",
       "    <tr>\n",
       "      <th>1</th>\n",
       "      <td>81.4</td>\n",
       "      <td>76.1</td>\n",
       "      <td>80.0</td>\n",
       "      <td>87.2</td>\n",
       "      <td>81.3</td>\n",
       "      <td>73.9</td>\n",
       "      <td>74.3</td>\n",
       "      <td>71.4</td>\n",
       "      <td>82.1</td>\n",
       "      <td>84.0</td>\n",
       "      <td>88.2</td>\n",
       "      <td>2019</td>\n",
       "    </tr>\n",
       "    <tr>\n",
       "      <th>2</th>\n",
       "      <td>78.6</td>\n",
       "      <td>70.9</td>\n",
       "      <td>81.6</td>\n",
       "      <td>70.0</td>\n",
       "      <td>74.1</td>\n",
       "      <td>72.1</td>\n",
       "      <td>80.5</td>\n",
       "      <td>84.3</td>\n",
       "      <td>88.6</td>\n",
       "      <td>90.5</td>\n",
       "      <td>87.3</td>\n",
       "      <td>2019</td>\n",
       "    </tr>\n",
       "    <tr>\n",
       "      <th>3</th>\n",
       "      <td>100.0</td>\n",
       "      <td>94.3</td>\n",
       "      <td>90.5</td>\n",
       "      <td>94.0</td>\n",
       "      <td>94.9</td>\n",
       "      <td>93.6</td>\n",
       "      <td>93.9</td>\n",
       "      <td>79.7</td>\n",
       "      <td>77.9</td>\n",
       "      <td>81.9</td>\n",
       "      <td>87.3</td>\n",
       "      <td>2019</td>\n",
       "    </tr>\n",
       "    <tr>\n",
       "      <th>4</th>\n",
       "      <td>69.0</td>\n",
       "      <td>69.8</td>\n",
       "      <td>72.1</td>\n",
       "      <td>73.2</td>\n",
       "      <td>70.0</td>\n",
       "      <td>79.8</td>\n",
       "      <td>82.1</td>\n",
       "      <td>85.3</td>\n",
       "      <td>80.6</td>\n",
       "      <td>78.5</td>\n",
       "      <td>82.3</td>\n",
       "      <td>2019</td>\n",
       "    </tr>\n",
       "    <tr>\n",
       "      <th>...</th>\n",
       "      <td>...</td>\n",
       "      <td>...</td>\n",
       "      <td>...</td>\n",
       "      <td>...</td>\n",
       "      <td>...</td>\n",
       "      <td>...</td>\n",
       "      <td>...</td>\n",
       "      <td>...</td>\n",
       "      <td>...</td>\n",
       "      <td>...</td>\n",
       "      <td>...</td>\n",
       "      <td>...</td>\n",
       "    </tr>\n",
       "    <tr>\n",
       "      <th>9995</th>\n",
       "      <td>86.3</td>\n",
       "      <td>85.6</td>\n",
       "      <td>81.3</td>\n",
       "      <td>76.3</td>\n",
       "      <td>80.5</td>\n",
       "      <td>68.9</td>\n",
       "      <td>64.3</td>\n",
       "      <td>60.8</td>\n",
       "      <td>71.5</td>\n",
       "      <td>71.3</td>\n",
       "      <td>74.6</td>\n",
       "      <td>2019</td>\n",
       "    </tr>\n",
       "    <tr>\n",
       "      <th>9996</th>\n",
       "      <td>87.5</td>\n",
       "      <td>85.4</td>\n",
       "      <td>86.9</td>\n",
       "      <td>85.5</td>\n",
       "      <td>68.4</td>\n",
       "      <td>73.9</td>\n",
       "      <td>83.8</td>\n",
       "      <td>86.3</td>\n",
       "      <td>79.4</td>\n",
       "      <td>69.9</td>\n",
       "      <td>70.1</td>\n",
       "      <td>2019</td>\n",
       "    </tr>\n",
       "    <tr>\n",
       "      <th>9997</th>\n",
       "      <td>89.5</td>\n",
       "      <td>86.5</td>\n",
       "      <td>89.7</td>\n",
       "      <td>80.2</td>\n",
       "      <td>77.6</td>\n",
       "      <td>83.0</td>\n",
       "      <td>92.7</td>\n",
       "      <td>83.9</td>\n",
       "      <td>85.8</td>\n",
       "      <td>85.4</td>\n",
       "      <td>76.2</td>\n",
       "      <td>2019</td>\n",
       "    </tr>\n",
       "    <tr>\n",
       "      <th>9998</th>\n",
       "      <td>81.8</td>\n",
       "      <td>91.1</td>\n",
       "      <td>85.4</td>\n",
       "      <td>78.3</td>\n",
       "      <td>87.0</td>\n",
       "      <td>83.8</td>\n",
       "      <td>89.0</td>\n",
       "      <td>88.4</td>\n",
       "      <td>83.1</td>\n",
       "      <td>84.3</td>\n",
       "      <td>79.5</td>\n",
       "      <td>2019</td>\n",
       "    </tr>\n",
       "    <tr>\n",
       "      <th>9999</th>\n",
       "      <td>93.5</td>\n",
       "      <td>89.3</td>\n",
       "      <td>89.9</td>\n",
       "      <td>80.4</td>\n",
       "      <td>88.1</td>\n",
       "      <td>91.6</td>\n",
       "      <td>89.0</td>\n",
       "      <td>93.5</td>\n",
       "      <td>85.4</td>\n",
       "      <td>77.4</td>\n",
       "      <td>83.4</td>\n",
       "      <td>2019</td>\n",
       "    </tr>\n",
       "  </tbody>\n",
       "</table>\n",
       "<p>10000 rows × 12 columns</p>\n",
       "</div>"
      ],
      "text/plain": [
       "          0     1     2     3     4     5     6     7     8     9    10  Year\n",
       "0      82.4  83.2  94.7  97.8  95.0  91.6  73.4  72.7  75.0  76.7  72.1  2019\n",
       "1      81.4  76.1  80.0  87.2  81.3  73.9  74.3  71.4  82.1  84.0  88.2  2019\n",
       "2      78.6  70.9  81.6  70.0  74.1  72.1  80.5  84.3  88.6  90.5  87.3  2019\n",
       "3     100.0  94.3  90.5  94.0  94.9  93.6  93.9  79.7  77.9  81.9  87.3  2019\n",
       "4      69.0  69.8  72.1  73.2  70.0  79.8  82.1  85.3  80.6  78.5  82.3  2019\n",
       "...     ...   ...   ...   ...   ...   ...   ...   ...   ...   ...   ...   ...\n",
       "9995   86.3  85.6  81.3  76.3  80.5  68.9  64.3  60.8  71.5  71.3  74.6  2019\n",
       "9996   87.5  85.4  86.9  85.5  68.4  73.9  83.8  86.3  79.4  69.9  70.1  2019\n",
       "9997   89.5  86.5  89.7  80.2  77.6  83.0  92.7  83.9  85.8  85.4  76.2  2019\n",
       "9998   81.8  91.1  85.4  78.3  87.0  83.8  89.0  88.4  83.1  84.3  79.5  2019\n",
       "9999   93.5  89.3  89.9  80.4  88.1  91.6  89.0  93.5  85.4  77.4  83.4  2019\n",
       "\n",
       "[10000 rows x 12 columns]"
      ]
     },
     "execution_count": 66,
     "metadata": {},
     "output_type": "execute_result"
    }
   ],
   "source": [
    "test_data"
   ]
  },
  {
   "cell_type": "code",
   "execution_count": null,
   "metadata": {},
   "outputs": [],
   "source": []
  }
 ],
 "metadata": {
  "kernelspec": {
   "display_name": "Python 3",
   "language": "python",
   "name": "python3"
  },
  "language_info": {
   "codemirror_mode": {
    "name": "ipython",
    "version": 3
   },
   "file_extension": ".py",
   "mimetype": "text/x-python",
   "name": "python",
   "nbconvert_exporter": "python",
   "pygments_lexer": "ipython3",
   "version": "3.7.5"
  }
 },
 "nbformat": 4,
 "nbformat_minor": 2
}
